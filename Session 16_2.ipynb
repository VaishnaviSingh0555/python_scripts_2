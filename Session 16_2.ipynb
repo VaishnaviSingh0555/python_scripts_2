{
 "cells": [
  {
   "cell_type": "code",
   "execution_count": 4,
   "metadata": {},
   "outputs": [],
   "source": [
    "import pandas as pd\n",
    "\n",
    "from sklearn.preprocessing import LabelEncoder\n",
    "\n",
    "from sklearn.model_selection import train_test_split\n",
    "\n",
    "from sklearn.linear_model import LogisticRegression\n",
    "from sklearn.metrics import accuracy_score\n"
   ]
  },
  {
   "cell_type": "code",
   "execution_count": 24,
   "metadata": {},
   "outputs": [],
   "source": [
    "def ReadData(filename):\n",
    "    df=pd.read_csv(filename)\n",
    "    return df\n",
    "\n",
    "\n",
    "def Preprocessing(df):\n",
    "    df['Age']=df['Age'].fillna(28)\n",
    "    df['Sex']=df['Sex'].map({\"male\":0,'female':1})\n",
    "    df['Embarked']=df['Embarked'].fillna('S')\n",
    "    L=LabelEncoder()\n",
    "    df['Embarked']=L.fit_transform(df['Embarked'])\n",
    "    return df\n",
    "    \n",
    "def GetFeatures():\n",
    "    features=['Pclass','Sex','Age']\n",
    "    return features\n",
    "\n",
    "def GetLabel():\n",
    "    label=['Survived']\n",
    "    return label\n",
    "\n",
    "def CreateLRModel(X_train,Y_train):\n",
    "        lr=LogisticRegression()\n",
    "        model=lr.fit(X_train,Y_train)\n",
    "        return model \n",
    "\n",
    "def GetPredictions(model,X_test):\n",
    "    pred=model.predict(X_test)\n",
    "    return pred \n",
    "\n",
    "\n",
    "def GetAccuracy(actual,pred):\n",
    "    acc_score=accuracy_score(actual,pred)\n",
    "    return acc_score"
   ]
  },
  {
   "cell_type": "code",
   "execution_count": 12,
   "metadata": {},
   "outputs": [],
   "source": []
  },
  {
   "cell_type": "code",
   "execution_count": 52,
   "metadata": {},
   "outputs": [
    {
     "name": "stderr",
     "output_type": "stream",
     "text": [
      "/Users/apple/anaconda3/lib/python3.7/site-packages/sklearn/linear_model/logistic.py:432: FutureWarning: Default solver will be changed to 'lbfgs' in 0.22. Specify a solver to silence this warning.\n",
      "  FutureWarning)\n",
      "/Users/apple/anaconda3/lib/python3.7/site-packages/sklearn/utils/validation.py:724: DataConversionWarning: A column-vector y was passed when a 1d array was expected. Please change the shape of y to (n_samples, ), for example using ravel().\n",
      "  y = column_or_1d(y, warn=True)\n"
     ]
    }
   ],
   "source": [
    "filename=\"train.csv\"\n",
    "\n",
    "df=ReadData(filename)\n",
    "\n",
    "df=Preprocessing(df)\n",
    "\n",
    "feat=GetFeatures()\n",
    "label=GetLabel()\n",
    "\n",
    "# Randomly getting train and test \n",
    "X=df[feat]\n",
    "Y=df[label]\n",
    "testsize=.20\n",
    "seed=23456\n",
    "X_train,X_test,Y_train,Y_test=train_test_split(X,Y,test_size=testsize,random_state=seed)\n",
    "\n",
    "model=CreateLRModel(X_train,Y_train)\n",
    "\n",
    "pred=GetPredictions(model,X_test)\n",
    "\n",
    "acc=GetAccuracy(Y_test,pred)"
   ]
  },
  {
   "cell_type": "code",
   "execution_count": 53,
   "metadata": {},
   "outputs": [
    {
     "data": {
      "text/plain": [
       "0.7988826815642458"
      ]
     },
     "execution_count": 53,
     "metadata": {},
     "output_type": "execute_result"
    }
   ],
   "source": [
    "acc"
   ]
  },
  {
   "cell_type": "code",
   "execution_count": 33,
   "metadata": {
    "collapsed": true
   },
   "outputs": [
    {
     "name": "stderr",
     "output_type": "stream",
     "text": [
      "/Users/apple/anaconda3/lib/python3.7/site-packages/sklearn/externals/joblib/__init__.py:15: DeprecationWarning: sklearn.externals.joblib is deprecated in 0.21 and will be removed in 0.23. Please import this functionality directly from joblib, which can be installed with: pip install joblib. If this warning is raised when loading pickled models, you may need to re-serialize those models with scikit-learn 0.21+.\n",
      "  warnings.warn(msg, category=DeprecationWarning)\n"
     ]
    }
   ],
   "source": [
    "from sklearn.externals import joblib"
   ]
  },
  {
   "cell_type": "code",
   "execution_count": 35,
   "metadata": {},
   "outputs": [
    {
     "data": {
      "text/plain": [
       "['LRModel.pkl']"
      ]
     },
     "execution_count": 35,
     "metadata": {},
     "output_type": "execute_result"
    }
   ],
   "source": [
    "joblib.dump(model,\"LRModel.pkl\")"
   ]
  },
  {
   "cell_type": "code",
   "execution_count": 36,
   "metadata": {},
   "outputs": [],
   "source": [
    "model_Saved=joblib.load(\"LRModel.pkl\")"
   ]
  },
  {
   "cell_type": "code",
   "execution_count": 38,
   "metadata": {},
   "outputs": [
    {
     "data": {
      "text/plain": [
       "0.8324022346368715"
      ]
     },
     "execution_count": 38,
     "metadata": {},
     "output_type": "execute_result"
    }
   ],
   "source": [
    "pred=GetPredictions(model_Saved,X_test)\n",
    "\n",
    "acc=GetAccuracy(Y_test,pred)\n",
    "acc"
   ]
  },
  {
   "cell_type": "code",
   "execution_count": 54,
   "metadata": {},
   "outputs": [
    {
     "data": {
      "text/plain": [
       "0.7988826815642458"
      ]
     },
     "execution_count": 54,
     "metadata": {},
     "output_type": "execute_result"
    }
   ],
   "source": [
    "#Get accuracy on train as well as test data \n",
    "\n",
    "#test data\n",
    "pred=GetPredictions(model_Saved,X_test)\n",
    "acc=GetAccuracy(Y_test,pred)\n",
    "acc\n"
   ]
  },
  {
   "cell_type": "code",
   "execution_count": 55,
   "metadata": {},
   "outputs": [
    {
     "data": {
      "text/plain": [
       "0.7893258426966292"
      ]
     },
     "execution_count": 55,
     "metadata": {},
     "output_type": "execute_result"
    }
   ],
   "source": [
    "#train data\n",
    "pred=GetPredictions(model_Saved,X_train)\n",
    "acc=GetAccuracy(Y_train,pred)\n",
    "acc\n"
   ]
  },
  {
   "cell_type": "code",
   "execution_count": 69,
   "metadata": {},
   "outputs": [],
   "source": [
    "from sklearn.tree import DecisionTreeClassifier\n",
    "def CreateDTModel(X_train,Y_train):\n",
    "        dt=DecisionTreeClassifier(max_depth=3)\n",
    "        model=dt.fit(X_train,Y_train)\n",
    "        return model "
   ]
  },
  {
   "cell_type": "code",
   "execution_count": 70,
   "metadata": {},
   "outputs": [],
   "source": [
    "model_dt=CreateDTModel(X_train,Y_train)"
   ]
  },
  {
   "cell_type": "code",
   "execution_count": 71,
   "metadata": {},
   "outputs": [
    {
     "data": {
      "text/plain": [
       "0.7988826815642458"
      ]
     },
     "execution_count": 71,
     "metadata": {},
     "output_type": "execute_result"
    }
   ],
   "source": [
    "#test data\n",
    "pred=GetPredictions(model_dt,X_test)\n",
    "acc=GetAccuracy(Y_test,pred)\n",
    "acc\n"
   ]
  },
  {
   "cell_type": "code",
   "execution_count": 72,
   "metadata": {},
   "outputs": [
    {
     "data": {
      "text/plain": [
       "0.800561797752809"
      ]
     },
     "execution_count": 72,
     "metadata": {},
     "output_type": "execute_result"
    }
   ],
   "source": [
    "#train data\n",
    "pred=GetPredictions(model_dt,X_train)\n",
    "acc=GetAccuracy(Y_train,pred)\n",
    "acc\n"
   ]
  },
  {
   "cell_type": "code",
   "execution_count": null,
   "metadata": {},
   "outputs": [],
   "source": []
  },
  {
   "cell_type": "code",
   "execution_count": null,
   "metadata": {},
   "outputs": [],
   "source": []
  }
 ],
 "metadata": {
  "kernelspec": {
   "display_name": "Python 3",
   "language": "python",
   "name": "python3"
  },
  "language_info": {
   "codemirror_mode": {
    "name": "ipython",
    "version": 3
   },
   "file_extension": ".py",
   "mimetype": "text/x-python",
   "name": "python",
   "nbconvert_exporter": "python",
   "pygments_lexer": "ipython3",
   "version": "3.7.4"
  }
 },
 "nbformat": 4,
 "nbformat_minor": 2
}
