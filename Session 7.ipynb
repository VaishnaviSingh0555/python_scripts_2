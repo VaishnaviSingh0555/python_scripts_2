{
 "cells": [
  {
   "cell_type": "code",
   "execution_count": null,
   "metadata": {},
   "outputs": [],
   "source": [
    "#Class \n",
    "\n",
    "#Objects\n",
    "\n",
    "#Constructor\n",
    "\n",
    "#Scope of variable wrt class \n",
    "\n",
    "#Principle of OOP\n",
    "\n",
    "    #Abstraction\n",
    "    #encapsulation\n",
    "    #Inheritence\n",
    "    #OVerriding\n",
    "    #Polymorphism\n",
    "\n",
    "\n",
    "#Access Spicifiers\n",
    "\n"
   ]
  },
  {
   "cell_type": "code",
   "execution_count": null,
   "metadata": {},
   "outputs": [],
   "source": [
    "#Different types of methods \n",
    "\n"
   ]
  },
  {
   "cell_type": "code",
   "execution_count": null,
   "metadata": {},
   "outputs": [],
   "source": []
  },
  {
   "cell_type": "code",
   "execution_count": 17,
   "metadata": {},
   "outputs": [],
   "source": [
    "\n",
    "\n",
    "class Flower():  #class is a collection of variables and function \n",
    "    \n",
    "    \n",
    "    def PrintName(self,name):\n",
    "        print(\"Name of flower is :\",name)\n",
    "        \n",
    "    def PrintColor(self,color):\n",
    "        print(\"Color of flower is :\",color)\n",
    "        \n",
    "    def PrintQuantity(self,quan):\n",
    "        print(\"Quantity of flowers is :\",quan)\n",
    "        \n",
    "        \n",
    "    def PrintAlldetails(self,name,color,quantity):\n",
    "        self.PrintName(name)\n",
    "        self.PrintColor(color)\n",
    "        self.PrintQuantity(quantity)\n",
    "        \n",
    "    "
   ]
  },
  {
   "cell_type": "code",
   "execution_count": 18,
   "metadata": {},
   "outputs": [],
   "source": [
    "f1=Flower()"
   ]
  },
  {
   "cell_type": "code",
   "execution_count": 19,
   "metadata": {},
   "outputs": [
    {
     "name": "stdout",
     "output_type": "stream",
     "text": [
      "Name of flower is : Rose\n"
     ]
    }
   ],
   "source": [
    "f1.PrintName(\"Rose\")"
   ]
  },
  {
   "cell_type": "code",
   "execution_count": 20,
   "metadata": {},
   "outputs": [
    {
     "name": "stdout",
     "output_type": "stream",
     "text": [
      "Name of flower is : Rose\n",
      "Color of flower is : red\n",
      "Quantity of flowers is : 1000\n"
     ]
    }
   ],
   "source": [
    "f1.PrintAlldetails(\"Rose\",\"red\",1000)"
   ]
  },
  {
   "cell_type": "code",
   "execution_count": 75,
   "metadata": {},
   "outputs": [],
   "source": [
    "name=\"Yash\"\n",
    "\n",
    "def PrintColor():\n",
    "    print (\"default color is xyz\")\n",
    "    \n",
    "class Flower:  #class is a collection of variables and function \n",
    "    \n",
    "    name=\"Rose\"\n",
    "    color=\"Red\"\n",
    "    quan=1000\n",
    "    \n",
    "    #methods\n",
    "    def PrintName(self):\n",
    "        name=\"Sunflower\"\n",
    "        print(\"Name of flower is :\",self.name)\n",
    "        \n",
    "    def PrintColor(self):\n",
    "        print(\"Color of flower is :\",self.color)\n",
    "        \n",
    "    def PrintQuantity(self):\n",
    "        print(\"Quantity of flowers is :\",self.quan)\n",
    "         \n",
    "    def PrintAlldetails():\n",
    "        self.PrintName()\n",
    "        self.PrintColor()\n",
    "        PrintColor()\n",
    "        self.PrintQuantity()\n",
    "        \n",
    "    "
   ]
  },
  {
   "cell_type": "code",
   "execution_count": 76,
   "metadata": {},
   "outputs": [],
   "source": [
    "f2=Flower()"
   ]
  },
  {
   "cell_type": "code",
   "execution_count": 77,
   "metadata": {},
   "outputs": [
    {
     "name": "stdout",
     "output_type": "stream",
     "text": [
      "Name of flower is : Rose\n"
     ]
    }
   ],
   "source": [
    "f2.PrintName()"
   ]
  },
  {
   "cell_type": "code",
   "execution_count": 67,
   "metadata": {},
   "outputs": [
    {
     "name": "stdout",
     "output_type": "stream",
     "text": [
      "Name of flower is : Rose\n",
      "Color of flower is : Red\n",
      "default color is xyz\n",
      "Quantity of flowers is : 1000\n"
     ]
    }
   ],
   "source": [
    "f2.PrintAlldetails()"
   ]
  },
  {
   "cell_type": "code",
   "execution_count": 68,
   "metadata": {},
   "outputs": [
    {
     "name": "stdout",
     "output_type": "stream",
     "text": [
      "Name of flower is : Lily\n",
      "Color of flower is : White\n",
      "default color is xyz\n",
      "Quantity of flowers is : 2000\n"
     ]
    }
   ],
   "source": [
    "f2.name=\"Lily\"\n",
    "f2.color=\"White\"\n",
    "f2.quan=2000\n",
    "f2.PrintAlldetails()"
   ]
  },
  {
   "cell_type": "code",
   "execution_count": 55,
   "metadata": {},
   "outputs": [
    {
     "name": "stdout",
     "output_type": "stream",
     "text": [
      "Name of flower: ('Name of flower is:', 'Jasmine')\n"
     ]
    }
   ],
   "source": [
    "#static mthod \n",
    "#class method "
   ]
  },
  {
   "cell_type": "code",
   "execution_count": 84,
   "metadata": {},
   "outputs": [],
   "source": [
    "p=2000000\n",
    "r=3\n",
    "t=5\n",
    "\n",
    "class Interest():\n",
    "    \n",
    "    p=1000\n",
    "    r=2\n",
    "    t=8\n",
    "    \n",
    "    #instance \n",
    "    def SI(self):\n",
    "        si=round ( (self.p*self.r*self.t)/100.0,2)\n",
    "        return si \n",
    "    \n",
    "    def PrintAlldetails(self):\n",
    "        print (\"Principle :\",self.p)\n",
    "        print (\"Rate\",self.r)\n",
    "        print (\"Time\",self.t)\n",
    "        print (\"SI\",self.SI())"
   ]
  },
  {
   "cell_type": "code",
   "execution_count": 85,
   "metadata": {},
   "outputs": [],
   "source": [
    "i=Interest()"
   ]
  },
  {
   "cell_type": "code",
   "execution_count": 86,
   "metadata": {},
   "outputs": [
    {
     "name": "stdout",
     "output_type": "stream",
     "text": [
      "Principle : 2000\n",
      "Rate 2\n",
      "Time 8\n",
      "SI 320.0\n"
     ]
    }
   ],
   "source": [
    "i.PrintAlldetails()"
   ]
  },
  {
   "cell_type": "code",
   "execution_count": 101,
   "metadata": {},
   "outputs": [],
   "source": [
    "#constructor: a function which accepts values to variables, it is used to initlize the variables \n",
    "#Name of constructor is always __init__\n",
    "\n",
    "class Interest():\n",
    "    \n",
    "    def __init__(self,principle,rate,time):\n",
    "        self.p=principle\n",
    "        self.r=rate\n",
    "        self.t=time\n",
    "\n",
    "    \n",
    "    #instance \n",
    "    def SIandAmt(self):\n",
    "        simpleinterest=round ( (self.p*self.r*self.t)/100.0,2)\n",
    "        return [simpleinterest,simpleinterest+self.p]\n",
    "    \n",
    "    def PrintAlldetails(self):\n",
    "        print (\"Principle :\",self.p)\n",
    "        print (\"Rate\",self.r)\n",
    "        print (\"Time\",self.t)\n",
    "        si,amt=self.SIandAmt()\n",
    "        print (\"SI\",si)\n",
    "        print (\"Amount\",amt)"
   ]
  },
  {
   "cell_type": "code",
   "execution_count": 102,
   "metadata": {},
   "outputs": [],
   "source": [
    "i=Interest(1000,3,4)"
   ]
  },
  {
   "cell_type": "code",
   "execution_count": 103,
   "metadata": {},
   "outputs": [
    {
     "name": "stdout",
     "output_type": "stream",
     "text": [
      "Principle : 1000\n",
      "Rate 3\n",
      "Time 4\n",
      "SI 120.0\n",
      "Amount 1120.0\n"
     ]
    }
   ],
   "source": [
    "i.PrintAlldetails()"
   ]
  },
  {
   "cell_type": "code",
   "execution_count": 104,
   "metadata": {},
   "outputs": [],
   "source": [
    "i2=Interest(2000,5,6)"
   ]
  },
  {
   "cell_type": "code",
   "execution_count": 105,
   "metadata": {},
   "outputs": [
    {
     "name": "stdout",
     "output_type": "stream",
     "text": [
      "Principle : 2000\n",
      "Rate 5\n",
      "Time 6\n",
      "SI 600.0\n",
      "Amount 2600.0\n"
     ]
    }
   ],
   "source": [
    "i2.PrintAlldetails()"
   ]
  },
  {
   "cell_type": "code",
   "execution_count": 106,
   "metadata": {},
   "outputs": [],
   "source": [
    "class SignUP():\n",
    "    \n",
    "    def __init__(self,name,email,password):\n",
    "        self.n=name\n",
    "        self.e=email\n",
    "        self.p=password\n",
    "        \n",
    "    def StoreDetailstoDB(self):\n",
    "        print (\"Details Stored to db \")\n",
    "        pass\n",
    "        #code to make a connection to db and store the new details \n",
    "        #if the email exits then throw appropraite message \n",
    "    "
   ]
  },
  {
   "cell_type": "code",
   "execution_count": 93,
   "metadata": {},
   "outputs": [],
   "source": [
    "user1=SignUP(\"yash\",\"abc@123\",\"123\")"
   ]
  },
  {
   "cell_type": "code",
   "execution_count": 94,
   "metadata": {},
   "outputs": [
    {
     "name": "stdout",
     "output_type": "stream",
     "text": [
      "Details Stored to db \n"
     ]
    }
   ],
   "source": [
    "user1.StoreDetailstoDB()"
   ]
  },
  {
   "cell_type": "code",
   "execution_count": null,
   "metadata": {},
   "outputs": [],
   "source": [
    "user2=SignUP(\"nama§b233@343\",\"45\")\n"
   ]
  },
  {
   "cell_type": "code",
   "execution_count": 113,
   "metadata": {},
   "outputs": [],
   "source": [
    "from importlib import reload"
   ]
  },
  {
   "cell_type": "code",
   "execution_count": 107,
   "metadata": {},
   "outputs": [],
   "source": [
    "import Calculator\n"
   ]
  },
  {
   "cell_type": "code",
   "execution_count": 110,
   "metadata": {},
   "outputs": [],
   "source": [
    "c=Calculator.Calculator()"
   ]
  },
  {
   "cell_type": "code",
   "execution_count": 111,
   "metadata": {},
   "outputs": [
    {
     "data": {
      "text/plain": [
       "57"
      ]
     },
     "execution_count": 111,
     "metadata": {},
     "output_type": "execute_result"
    }
   ],
   "source": [
    "c.Add(23,34)"
   ]
  },
  {
   "cell_type": "code",
   "execution_count": 114,
   "metadata": {},
   "outputs": [
    {
     "data": {
      "text/plain": [
       "<module 'Calculator' from '/Users/apple/Desktop/data/DS 28th Oct/Calculator.py'>"
      ]
     },
     "execution_count": 114,
     "metadata": {},
     "output_type": "execute_result"
    }
   ],
   "source": [
    " reload(Calculator)"
   ]
  },
  {
   "cell_type": "code",
   "execution_count": 115,
   "metadata": {},
   "outputs": [],
   "source": [
    "c=Calculator.Calculator()"
   ]
  },
  {
   "cell_type": "code",
   "execution_count": 116,
   "metadata": {},
   "outputs": [
    {
     "data": {
      "text/plain": [
       "15"
      ]
     },
     "execution_count": 116,
     "metadata": {},
     "output_type": "execute_result"
    }
   ],
   "source": [
    "c.Add()"
   ]
  },
  {
   "cell_type": "code",
   "execution_count": 117,
   "metadata": {},
   "outputs": [],
   "source": [
    "c.a=100\n",
    "c.b=200"
   ]
  },
  {
   "cell_type": "code",
   "execution_count": 118,
   "metadata": {},
   "outputs": [
    {
     "data": {
      "text/plain": [
       "300"
      ]
     },
     "execution_count": 118,
     "metadata": {},
     "output_type": "execute_result"
    }
   ],
   "source": [
    "c.Add()"
   ]
  },
  {
   "cell_type": "code",
   "execution_count": 119,
   "metadata": {},
   "outputs": [
    {
     "data": {
      "text/plain": [
       "<module 'Calculator' from '/Users/apple/Desktop/data/DS 28th Oct/Calculator.py'>"
      ]
     },
     "execution_count": 119,
     "metadata": {},
     "output_type": "execute_result"
    }
   ],
   "source": [
    " reload(Calculator)"
   ]
  },
  {
   "cell_type": "code",
   "execution_count": 121,
   "metadata": {},
   "outputs": [],
   "source": [
    "c=Calculator.Calculator(300,400)"
   ]
  },
  {
   "cell_type": "code",
   "execution_count": 122,
   "metadata": {},
   "outputs": [
    {
     "data": {
      "text/plain": [
       "700"
      ]
     },
     "execution_count": 122,
     "metadata": {},
     "output_type": "execute_result"
    }
   ],
   "source": [
    "c.Add()"
   ]
  },
  {
   "cell_type": "code",
   "execution_count": null,
   "metadata": {},
   "outputs": [],
   "source": [
    "#Class name : Numbers \n",
    "\n",
    "#Constructor : num  \n",
    "\n",
    "#Functions: \n",
    "    #IsPallindrome  : True or Flase (boolean)\n",
    "    \n",
    "    #IsEven : True or False (boolean) \n",
    "    \n",
    "    #IsPrime : True or False (boolean)\n",
    "\n",
    "    "
   ]
  },
  {
   "cell_type": "code",
   "execution_count": null,
   "metadata": {},
   "outputs": [],
   "source": [
    "help()"
   ]
  },
  {
   "cell_type": "code",
   "execution_count": null,
   "metadata": {},
   "outputs": [],
   "source": []
  }
 ],
 "metadata": {
  "kernelspec": {
   "display_name": "Python 3",
   "language": "python",
   "name": "python3"
  },
  "language_info": {
   "codemirror_mode": {
    "name": "ipython",
    "version": 3
   },
   "file_extension": ".py",
   "mimetype": "text/x-python",
   "name": "python",
   "nbconvert_exporter": "python",
   "pygments_lexer": "ipython3",
   "version": "3.7.3"
  }
 },
 "nbformat": 4,
 "nbformat_minor": 2
}
