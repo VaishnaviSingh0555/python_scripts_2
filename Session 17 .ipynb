{
 "cells": [
  {
   "cell_type": "code",
   "execution_count": 5,
   "metadata": {},
   "outputs": [],
   "source": [
    "import pandas as pd\n",
    "\n",
    "from sklearn.preprocessing import LabelEncoder\n",
    "\n",
    "from sklearn.model_selection import train_test_split\n",
    "\n",
    "from sklearn.linear_model import LogisticRegression\n",
    "\n",
    "from sklearn.tree import DecisionTreeClassifier\n",
    "from sklearn.ensemble import RandomForestClassifier\n",
    "from sklearn.metrics import accuracy_score\n"
   ]
  },
  {
   "cell_type": "code",
   "execution_count": 43,
   "metadata": {},
   "outputs": [],
   "source": [
    "def ReadData(filename):\n",
    "    df=pd.read_csv(filename)\n",
    "    return df\n",
    "\n",
    "\n",
    "def Preprocessing(df):\n",
    "    df['Age']=df['Age'].fillna(28)\n",
    "    df['Sex']=df['Sex'].map({\"male\":0,'female':1})\n",
    "    df['Embarked']=df['Embarked'].fillna('S')\n",
    "    L=LabelEncoder()\n",
    "    df['Embarked']=L.fit_transform(df['Embarked'])\n",
    "    return df\n",
    "    \n",
    "def GetFeatures():\n",
    "    features=['Pclass','Sex','Age']\n",
    "    return features\n",
    "\n",
    "def GetLabel():\n",
    "    label=['Survived']\n",
    "    return label\n",
    "\n",
    "def CreateLRModel(X_train,Y_train):\n",
    "        lr=LogisticRegression()\n",
    "        model=lr.fit(X_train,Y_train)\n",
    "        return model \n",
    "\n",
    "def CreateDTModel(X_train,Y_train):\n",
    "        dt=DecisionTreeClassifier(max_depth=5)\n",
    "        model=dt.fit(X_train,Y_train)\n",
    "        return model \n",
    "\n",
    "def CreateRFModel(X_train,Y_train):\n",
    "        rf=RandomForestClassifier(n_estimators=150,max_depth=5)\n",
    "        model=rf.fit(X_train,Y_train)\n",
    "        return model \n",
    "\n",
    "from sklearn.naive_bayes import GaussianNB\n",
    "def CreateNBModel(X_train,Y_train):\n",
    "        nb=GaussianNB()\n",
    "        model=nb.fit(X_train,Y_train)\n",
    "        return model \n",
    "\n",
    "    \n",
    "def GetPredictions(model,X_test):\n",
    "    pred=model.predict(X_test)\n",
    "    return pred \n",
    "\n",
    "\n",
    "def GetAccuracy(actual,pred):\n",
    "    acc_score=accuracy_score(actual,pred)\n",
    "    return acc_score"
   ]
  },
  {
   "cell_type": "code",
   "execution_count": 18,
   "metadata": {},
   "outputs": [
    {
     "name": "stderr",
     "output_type": "stream",
     "text": [
      "/Users/apple/anaconda3/lib/python3.7/site-packages/sklearn/linear_model/logistic.py:432: FutureWarning: Default solver will be changed to 'lbfgs' in 0.22. Specify a solver to silence this warning.\n",
      "  FutureWarning)\n",
      "/Users/apple/anaconda3/lib/python3.7/site-packages/sklearn/utils/validation.py:724: DataConversionWarning: A column-vector y was passed when a 1d array was expected. Please change the shape of y to (n_samples, ), for example using ravel().\n",
      "  y = column_or_1d(y, warn=True)\n"
     ]
    }
   ],
   "source": [
    "filename=\"train.csv\"\n",
    "\n",
    "df=ReadData(filename)\n",
    "\n",
    "df=Preprocessing(df)\n",
    "\n",
    "feat=GetFeatures()\n",
    "label=GetLabel()\n",
    "\n",
    "# Randomly getting train and test \n",
    "X=df[feat]\n",
    "Y=df[label]\n",
    "testsize=.20\n",
    "seed=23456\n",
    "X_train,X_test,Y_train,Y_test=train_test_split(X,Y,test_size=testsize,random_state=seed)\n",
    "\n",
    "model=CreateLRModel(X_train,Y_train)\n",
    "pred=GetPredictions(model,X_test)\n",
    "acc=GetAccuracy(Y_test,pred)"
   ]
  },
  {
   "cell_type": "code",
   "execution_count": 19,
   "metadata": {},
   "outputs": [
    {
     "name": "stdout",
     "output_type": "stream",
     "text": [
      "Test data:  0.7988826815642458\n",
      "Train data:  0.797752808988764\n"
     ]
    },
    {
     "name": "stderr",
     "output_type": "stream",
     "text": [
      "/Users/apple/anaconda3/lib/python3.7/site-packages/sklearn/linear_model/logistic.py:432: FutureWarning: Default solver will be changed to 'lbfgs' in 0.22. Specify a solver to silence this warning.\n",
      "  FutureWarning)\n",
      "/Users/apple/anaconda3/lib/python3.7/site-packages/sklearn/utils/validation.py:724: DataConversionWarning: A column-vector y was passed when a 1d array was expected. Please change the shape of y to (n_samples, ), for example using ravel().\n",
      "  y = column_or_1d(y, warn=True)\n"
     ]
    }
   ],
   "source": [
    "#Logistic Regression \n",
    "\n",
    "model=CreateLRModel(X_train,Y_train)\n",
    "pred=GetPredictions(model,X_test)\n",
    "acc=GetAccuracy(Y_test,pred)\n",
    "\n",
    "\n",
    "print (\"Test data: \",acc)\n",
    "\n",
    "pred=GetPredictions(model,X_train)\n",
    "acc=GetAccuracy(Y_train,pred)\n",
    "\n",
    "print (\"Train data: \",acc)"
   ]
  },
  {
   "cell_type": "code",
   "execution_count": 20,
   "metadata": {},
   "outputs": [
    {
     "name": "stdout",
     "output_type": "stream",
     "text": [
      "Test data:  0.8100558659217877\n",
      "Train data:  0.8258426966292135\n"
     ]
    }
   ],
   "source": [
    "#Decision Tree \n",
    "model=CreateDTModel(X_train,Y_train)\n",
    "pred=GetPredictions(model,X_test)\n",
    "acc=GetAccuracy(Y_test,pred)\n",
    "\n",
    "print (\"Test data: \",acc)\n",
    "\n",
    "pred=GetPredictions(model,X_train)\n",
    "acc=GetAccuracy(Y_train,pred)\n",
    "\n",
    "print (\"Train data: \",acc)"
   ]
  },
  {
   "cell_type": "code",
   "execution_count": null,
   "metadata": {},
   "outputs": [],
   "source": [
    "#Visualizing DT\n",
    "from IPython.display import Image \n",
    "\n",
    "#import pydotplus as pydot\n",
    "from sklearn import tree\n",
    "from os import system\n",
    "model=CreateDTModel(X_train,Y_train)\n",
    "\n",
    "TitanicData_File = open('TitanicData.dot','w')\n",
    "dot_data = tree.export_graphviz(model, out_file=TitanicData_File, feature_names = list(X_train))\n",
    "TitanicData_File.close()\n",
    "\n",
    "#system(\"dot -Tpng TitanicData.dot -o TitanicData.png\")\n",
    "#Image(\"TitanicData.png\")"
   ]
  },
  {
   "cell_type": "code",
   "execution_count": 21,
   "metadata": {},
   "outputs": [
    {
     "name": "stdout",
     "output_type": "stream",
     "text": [
      "Test data:  0.8212290502793296\n",
      "Train data:  0.827247191011236\n"
     ]
    },
    {
     "name": "stderr",
     "output_type": "stream",
     "text": [
      "/Users/apple/anaconda3/lib/python3.7/site-packages/ipykernel_launcher.py:34: DataConversionWarning: A column-vector y was passed when a 1d array was expected. Please change the shape of y to (n_samples,), for example using ravel().\n"
     ]
    }
   ],
   "source": [
    "#Random  Forest\n",
    "model=CreateRFModel(X_train,Y_train)\n",
    "pred=GetPredictions(model,X_test)\n",
    "acc=GetAccuracy(Y_test,pred)\n",
    "\n",
    "print (\"Test data: \",acc)\n",
    "\n",
    "pred=GetPredictions(model,X_train)\n",
    "acc=GetAccuracy(Y_train,pred)\n",
    "\n",
    "print (\"Train data: \",acc)"
   ]
  },
  {
   "cell_type": "code",
   "execution_count": 45,
   "metadata": {},
   "outputs": [
    {
     "name": "stdout",
     "output_type": "stream",
     "text": [
      "Test data:  0.8044692737430168\n",
      "Train data:  0.7837078651685393\n"
     ]
    },
    {
     "name": "stderr",
     "output_type": "stream",
     "text": [
      "/Users/apple/anaconda3/lib/python3.7/site-packages/sklearn/utils/validation.py:724: DataConversionWarning: A column-vector y was passed when a 1d array was expected. Please change the shape of y to (n_samples, ), for example using ravel().\n",
      "  y = column_or_1d(y, warn=True)\n"
     ]
    }
   ],
   "source": [
    "#Naive Bayes   \n",
    "model=CreateNBModel(X_train,Y_train)\n",
    "pred=GetPredictions(model,X_test)\n",
    "acc=GetAccuracy(Y_test,pred)\n",
    "\n",
    "print (\"Test data: \",acc)\n",
    "\n",
    "pred=GetPredictions(model,X_train)\n",
    "acc=GetAccuracy(Y_train,pred)\n",
    "\n",
    "print (\"Train data: \",acc)"
   ]
  },
  {
   "cell_type": "code",
   "execution_count": null,
   "metadata": {},
   "outputs": [],
   "source": [
    "#Out of these , I decide that RF performs the best so in production we now train on 100%data \n",
    "Prod_model=CreateRFModel(X,Y)\n",
    "\n"
   ]
  }
 ],
 "metadata": {
  "kernelspec": {
   "display_name": "Python 3",
   "language": "python",
   "name": "python3"
  },
  "language_info": {
   "codemirror_mode": {
    "name": "ipython",
    "version": 3
   },
   "file_extension": ".py",
   "mimetype": "text/x-python",
   "name": "python",
   "nbconvert_exporter": "python",
   "pygments_lexer": "ipython3",
   "version": "3.7.4"
  }
 },
 "nbformat": 4,
 "nbformat_minor": 2
}
