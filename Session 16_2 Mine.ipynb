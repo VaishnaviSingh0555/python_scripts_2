{
 "cells": [
  {
   "cell_type": "code",
   "execution_count": 1,
   "metadata": {},
   "outputs": [
    {
     "name": "stderr",
     "output_type": "stream",
     "text": [
      "C:\\Users\\vinayak.lakeshri\\AppData\\Local\\Continuum\\anaconda3\\lib\\importlib\\_bootstrap.py:219: RuntimeWarning: numpy.ufunc size changed, may indicate binary incompatibility. Expected 192 from C header, got 216 from PyObject\n",
      "  return f(*args, **kwds)\n",
      "C:\\Users\\vinayak.lakeshri\\AppData\\Local\\Continuum\\anaconda3\\lib\\importlib\\_bootstrap.py:219: RuntimeWarning: numpy.ufunc size changed, may indicate binary incompatibility. Expected 192 from C header, got 216 from PyObject\n",
      "  return f(*args, **kwds)\n",
      "C:\\Users\\vinayak.lakeshri\\AppData\\Local\\Continuum\\anaconda3\\lib\\importlib\\_bootstrap.py:219: RuntimeWarning: numpy.ufunc size changed, may indicate binary incompatibility. Expected 192 from C header, got 216 from PyObject\n",
      "  return f(*args, **kwds)\n",
      "C:\\Users\\vinayak.lakeshri\\AppData\\Local\\Continuum\\anaconda3\\lib\\importlib\\_bootstrap.py:219: RuntimeWarning: numpy.ufunc size changed, may indicate binary incompatibility. Expected 192 from C header, got 216 from PyObject\n",
      "  return f(*args, **kwds)\n"
     ]
    }
   ],
   "source": [
    "import pandas as pd\n",
    "import numpy as np\n",
    "import matplotlib.pyplot as plt\n",
    "from sklearn.preprocessing import LabelEncoder\n",
    "from sklearn.model_selection import train_test_split\n",
    "from sklearn.linear_model import LogisticRegression\n",
    "from sklearn.metrics import accuracy_score"
   ]
  },
  {
   "cell_type": "code",
   "execution_count": 10,
   "metadata": {},
   "outputs": [],
   "source": [
    "def ReadData(filename):\n",
    "    df=pd.read_csv(filename)\n",
    "    return df\n",
    "\n",
    "def Preprocessing(df):\n",
    "    df['Age']=df['Age'].fillna(28)\n",
    "    df['Sex']=df['Sex'].map({\"male\":0,'female':1})\n",
    "    df['Embarked']=df['Embarked'].fillna('S')\n",
    "    L=LabelEncoder()\n",
    "    df['Embarked']=L.fit_transform(df['Embarked'])\n",
    "    return df\n",
    "\n",
    "def GetFeatures():\n",
    "    features=[\"Pclass\",\"Sex\",\"Age\"]\n",
    "    return features\n",
    "\n",
    "def GetLabel():\n",
    "    label=[\"Survived\"]\n",
    "    return label\n",
    "\n",
    "def CreateLRModel(X_train,Y_train):\n",
    "    lr=LogisticRegression()\n",
    "    model=lr.fit(X_train,Y_train)\n",
    "    return model\n",
    "\n",
    "def GetPredictions(model,X_test):\n",
    "    pred=model.predict(X_test)\n",
    "    return pred \n",
    "\n",
    "def GetAccuracy(actual,pred):\n",
    "    acc_score=accuracy_score(actual,pred)\n",
    "    return acc_score\n",
    "    "
   ]
  },
  {
   "cell_type": "code",
   "execution_count": 23,
   "metadata": {},
   "outputs": [],
   "source": [
    "filename = (r\"C:\\Users\\vinayak.lakeshri\\Documents\\dataset\\bank-data.csv\")\n",
    "df=ReadData(filename)\n",
    "\n",
    "# df=Preprocessing(df)\n",
    "# feat=GetFeatures()\n",
    "# label=GetLabel()\n",
    "\n",
    "# X=df[feat]\n",
    "# Y=df[label]\n",
    "# testsize=.20\n",
    "# seed=23456\n",
    "# X_train,X_test,Y_train,Y_test=train_test_split(X,Y,test_size=testsize,random_state=seed)\n",
    "\n",
    "# model=CreateLRModel(X_train,Y_train)\n",
    "\n",
    "# pred=GetPredictions(model,X_test)\n",
    "\n",
    "# acc=GetAccuracy(Y_test,pred)"
   ]
  },
  {
   "cell_type": "code",
   "execution_count": null,
   "metadata": {},
   "outputs": [],
   "source": []
  }
 ],
 "metadata": {
  "kernelspec": {
   "display_name": "Python 3",
   "language": "python",
   "name": "python3"
  },
  "language_info": {
   "codemirror_mode": {
    "name": "ipython",
    "version": 3
   },
   "file_extension": ".py",
   "mimetype": "text/x-python",
   "name": "python",
   "nbconvert_exporter": "python",
   "pygments_lexer": "ipython3",
   "version": "3.7.4"
  }
 },
 "nbformat": 4,
 "nbformat_minor": 2
}
