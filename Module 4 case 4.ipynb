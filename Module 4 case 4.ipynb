{
 "cells": [
  {
   "cell_type": "code",
   "execution_count": null,
   "metadata": {},
   "outputs": [],
   "source": [
    "import pandas as pd\n",
    "import matplotlib.pyplot as plt  \n",
    "\n",
    "df = pd.read_csv(r\"C:\\Users\\vinayak.lakeshri\\Documents\\dataset\\BigMartSalesData.csv\")\n",
    "profitList = df ['Amount'].tolist()\n",
    "monthList  = df ['Year'].tolist()\n",
    "plt.plot(monthList, profitList, label = 'Month-wise Profit data of last year')\n",
    "plt.xlabel('Month number')\n",
    "plt.ylabel('Profit in dollar')\n",
    "plt.xticks(monthList)\n",
    "plt.title('Company profit per month')\n",
    "plt.yticks([100000, 200000, 300000, 400000, 500000])\n",
    "plt.show()"
   ]
  },
  {
   "cell_type": "code",
   "execution_count": null,
   "metadata": {},
   "outputs": [],
   "source": [
    "plt.title(\"Sales\")\n",
    "\n",
    "#Give the x axis some labels across the tick marks.\n",
    "#Argument one is the position for each label\n",
    "#Argument two is the label values and the final one is to rotate our labels\n",
    "plt.xticks(np.arange(1,21), table['Year'], rotation=90)\n",
    "\n",
    "#Give the x and y axes a title\n",
    "plt.xlabel(\"Year\")\n",
    "plt.ylabel(\"Amount\")\n",
    "\n",
    "#Finally, show me our new plot\n",
    "plt.show()"
   ]
  },
  {
   "cell_type": "code",
   "execution_count": null,
   "metadata": {},
   "outputs": [],
   "source": [
    "import matplotlib.pyplot as plt\n",
    "import pandas as pd\n",
    "df =  pd.read_csv('C:\\Users\\vinayak.lakeshri\\Documents\\dataset\\BigMartSalesData.csv')\n",
    "country_data = df[\"country\"]\n",
    "medal_data = df[\"gold_medal\"]\n",
    "colors = [\"#1f77b4\", \"#ff7f0e\", \"#2ca02c\", \"#d62728\", \"#8c564b\"]\n",
    "explode = (0.1, 0, 0, 0, 0)  \n",
    "plt.pie(medal_data, labels=country_data, explode=explode, colors=colors,\n",
    "autopct='%1.1f%%', shadow=True, startangle=140)\n",
    "plt.title(\"Gold medal achievements of five most successful\\n\"+\"countries in 2016 Summer Olympics\")\n",
    "plt.show()"
   ]
  }
 ],
 "metadata": {
  "kernelspec": {
   "display_name": "Python 3",
   "language": "python",
   "name": "python3"
  },
  "language_info": {
   "codemirror_mode": {
    "name": "ipython",
    "version": 3
   },
   "file_extension": ".py",
   "mimetype": "text/x-python",
   "name": "python",
   "nbconvert_exporter": "python",
   "pygments_lexer": "ipython3",
   "version": "3.7.4"
  }
 },
 "nbformat": 4,
 "nbformat_minor": 2
}
